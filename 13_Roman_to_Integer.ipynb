{
  "nbformat": 4,
  "nbformat_minor": 0,
  "metadata": {
    "colab": {
      "name": "13_Roman_to_Integer.ipynb",
      "provenance": [],
      "authorship_tag": "ABX9TyNwcQYEceRorhcGE84nUk8x",
      "include_colab_link": true
    },
    "kernelspec": {
      "name": "python3",
      "display_name": "Python 3"
    },
    "language_info": {
      "name": "python"
    }
  },
  "cells": [
    {
      "cell_type": "markdown",
      "metadata": {
        "id": "view-in-github",
        "colab_type": "text"
      },
      "source": [
        "<a href=\"https://colab.research.google.com/github/EduDN/13.-Roman-to-Integer/blob/main/13_Roman_to_Integer.ipynb\" target=\"_parent\"><img src=\"https://colab.research.google.com/assets/colab-badge.svg\" alt=\"Open In Colab\"/></a>"
      ]
    },
    {
      "cell_type": "code",
      "execution_count": null,
      "metadata": {
        "id": "Q3IRkJrQZEYI"
      },
      "outputs": [],
      "source": [
        "class Solution:\n",
        "   def romanToInt(self, x):\n",
        "    \n",
        "    result = 0;\n",
        "    map = {'I':1,'V':5,'X':10,'L':50,'C':100,'D':500,'M':1000}   \n",
        "    for s in range(len(x)):                                     \n",
        "        if(map[x[s]]):                                          \n",
        "            temp = map[x[s]];\n",
        "            if(s != 0 and map[x[s-1]] < map[x[s]]):             \n",
        "                temp = temp - (map[x[s-1]])*2;                  \n",
        "            result = result + temp ;\n",
        "    return  result;"
      ]
    }
  ]
}